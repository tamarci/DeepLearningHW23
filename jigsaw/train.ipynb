{
 "cells": [
  {
   "cell_type": "code",
   "execution_count": 1,
   "metadata": {},
   "outputs": [],
   "source": [
    "import torch\n",
    "import torch.nn as nn\n",
    "import torch.optim as optim\n",
    "from torch.utils.data import Dataset, DataLoader\n",
    "from torchvision.datasets import Places365\n",
    "from torchvision import transforms\n",
    "import matplotlib.pyplot as plt\n",
    "import numpy as np\n",
    "from PIL import Image\n",
    "from PIL import ImageTransform\n",
    "import lightning as L\n",
    "from lightning.pytorch.loggers import WandbLogger\n",
    "import wandb"
   ]
  },
  {
   "cell_type": "code",
   "execution_count": 2,
   "metadata": {},
   "outputs": [
    {
     "data": {
      "text/plain": [
       "array([[7, 6, 5, 8, 4, 3, 2, 1, 0],\n",
       "       [8, 7, 6, 5, 3, 4, 1, 0, 2],\n",
       "       [6, 8, 7, 4, 5, 2, 0, 3, 1],\n",
       "       [5, 4, 8, 6, 1, 0, 7, 2, 3],\n",
       "       [4, 5, 3, 2, 0, 1, 6, 7, 8],\n",
       "       [3, 2, 1, 0, 8, 7, 4, 6, 5],\n",
       "       [2, 3, 0, 1, 7, 8, 5, 4, 6],\n",
       "       [1, 0, 4, 3, 2, 6, 8, 5, 7],\n",
       "       [0, 1, 2, 7, 6, 5, 3, 8, 4],\n",
       "       [8, 7, 6, 5, 2, 1, 3, 4, 0],\n",
       "       [7, 8, 5, 3, 6, 2, 1, 0, 4],\n",
       "       [6, 5, 4, 1, 8, 0, 7, 2, 3],\n",
       "       [5, 6, 2, 7, 0, 8, 4, 3, 1],\n",
       "       [4, 3, 8, 2, 1, 5, 0, 6, 7],\n",
       "       [3, 1, 0, 4, 5, 6, 2, 7, 8],\n",
       "       [2, 0, 7, 8, 4, 3, 6, 1, 5],\n",
       "       [1, 2, 3, 0, 7, 4, 8, 5, 6],\n",
       "       [0, 4, 1, 6, 3, 7, 5, 8, 2],\n",
       "       [8, 7, 5, 1, 0, 3, 2, 6, 4],\n",
       "       [7, 8, 4, 0, 1, 5, 3, 2, 6],\n",
       "       [6, 5, 2, 3, 7, 1, 4, 0, 8],\n",
       "       [5, 2, 8, 7, 6, 0, 1, 4, 3],\n",
       "       [4, 1, 0, 5, 8, 2, 6, 3, 7],\n",
       "       [3, 6, 7, 4, 2, 8, 5, 1, 0],\n",
       "       [2, 4, 6, 8, 3, 7, 0, 5, 1],\n",
       "       [0, 3, 1, 2, 4, 6, 7, 8, 5],\n",
       "       [1, 0, 3, 6, 5, 4, 8, 7, 2],\n",
       "       [8, 7, 4, 1, 6, 2, 0, 3, 5],\n",
       "       [7, 8, 3, 0, 2, 5, 6, 4, 1],\n",
       "       [6, 5, 2, 4, 1, 8, 3, 0, 7],\n",
       "       [5, 3, 6, 7, 8, 4, 2, 1, 0],\n",
       "       [3, 6, 8, 2, 7, 0, 1, 5, 4],\n",
       "       [4, 2, 5, 6, 0, 1, 7, 8, 3],\n",
       "       [2, 0, 1, 5, 3, 7, 4, 6, 8],\n",
       "       [0, 1, 7, 8, 4, 3, 5, 2, 6],\n",
       "       [1, 4, 0, 3, 5, 6, 8, 7, 2],\n",
       "       [8, 7, 6, 5, 2, 0, 3, 1, 4],\n",
       "       [7, 8, 5, 1, 6, 3, 4, 2, 0],\n",
       "       [6, 5, 8, 7, 3, 4, 2, 0, 1],\n",
       "       [5, 6, 7, 8, 1, 2, 0, 4, 3],\n",
       "       [4, 3, 2, 6, 0, 7, 1, 5, 8],\n",
       "       [3, 2, 4, 0, 8, 1, 5, 6, 7],\n",
       "       [2, 1, 0, 4, 5, 8, 7, 3, 6],\n",
       "       [0, 4, 1, 3, 7, 5, 6, 8, 2],\n",
       "       [1, 0, 3, 2, 4, 6, 8, 7, 5],\n",
       "       [8, 7, 6, 0, 3, 1, 2, 5, 4],\n",
       "       [7, 8, 4, 6, 2, 3, 5, 1, 0],\n",
       "       [6, 5, 8, 4, 7, 2, 0, 3, 1],\n",
       "       [5, 6, 3, 2, 8, 4, 1, 0, 7],\n",
       "       [4, 2, 5, 1, 0, 7, 3, 6, 8],\n",
       "       [2, 1, 7, 5, 6, 0, 4, 8, 3],\n",
       "       [3, 0, 1, 8, 5, 6, 7, 4, 2],\n",
       "       [0, 4, 2, 3, 1, 5, 8, 7, 6],\n",
       "       [1, 3, 0, 7, 4, 8, 6, 2, 5],\n",
       "       [8, 7, 6, 0, 2, 3, 5, 1, 4],\n",
       "       [7, 8, 4, 1, 3, 5, 2, 6, 0],\n",
       "       [6, 2, 3, 4, 8, 7, 1, 0, 5],\n",
       "       [5, 3, 7, 8, 6, 4, 0, 2, 1],\n",
       "       [4, 5, 1, 7, 0, 2, 6, 8, 3],\n",
       "       [3, 6, 0, 2, 4, 1, 7, 5, 8],\n",
       "       [1, 4, 2, 5, 7, 0, 8, 3, 6],\n",
       "       [0, 1, 8, 3, 5, 6, 4, 7, 2],\n",
       "       [2, 0, 5, 6, 1, 8, 3, 4, 7],\n",
       "       [8, 7, 6, 0, 2, 4, 5, 3, 1],\n",
       "       [7, 0, 4, 1, 3, 8, 2, 6, 5],\n",
       "       [5, 2, 7, 6, 8, 0, 3, 1, 4],\n",
       "       [4, 6, 3, 2, 0, 7, 1, 5, 8],\n",
       "       [3, 5, 8, 7, 6, 1, 4, 2, 0],\n",
       "       [1, 4, 0, 3, 5, 6, 7, 8, 2],\n",
       "       [2, 8, 1, 5, 7, 3, 0, 4, 6],\n",
       "       [0, 1, 2, 8, 4, 5, 6, 7, 3],\n",
       "       [6, 3, 5, 4, 1, 2, 8, 0, 7],\n",
       "       [8, 5, 6, 7, 3, 4, 2, 0, 1],\n",
       "       [3, 6, 2, 5, 8, 0, 1, 4, 7],\n",
       "       [7, 8, 4, 6, 2, 5, 0, 1, 3],\n",
       "       [6, 4, 8, 0, 5, 1, 7, 3, 2],\n",
       "       [5, 1, 3, 8, 6, 7, 4, 2, 0],\n",
       "       [4, 3, 7, 1, 0, 2, 6, 5, 8],\n",
       "       [2, 0, 1, 4, 7, 8, 3, 6, 5],\n",
       "       [1, 7, 0, 2, 4, 3, 5, 8, 6],\n",
       "       [0, 2, 5, 3, 1, 6, 8, 7, 4],\n",
       "       [2, 3, 1, 4, 8, 0, 6, 5, 7],\n",
       "       [0, 8, 5, 6, 1, 7, 4, 2, 3],\n",
       "       [8, 7, 4, 1, 0, 2, 5, 3, 6],\n",
       "       [7, 6, 2, 5, 3, 4, 0, 1, 8],\n",
       "       [6, 4, 8, 3, 5, 1, 7, 0, 2],\n",
       "       [5, 1, 7, 2, 4, 8, 3, 6, 0],\n",
       "       [3, 0, 6, 8, 7, 5, 2, 4, 1],\n",
       "       [4, 2, 0, 7, 6, 3, 1, 8, 5],\n",
       "       [1, 5, 3, 0, 2, 6, 8, 7, 4],\n",
       "       [5, 1, 0, 2, 6, 7, 4, 8, 3],\n",
       "       [0, 4, 5, 3, 1, 6, 8, 7, 2],\n",
       "       [8, 7, 2, 5, 4, 0, 3, 1, 6],\n",
       "       [7, 6, 4, 1, 3, 2, 0, 5, 8],\n",
       "       [3, 0, 8, 4, 5, 1, 2, 6, 7],\n",
       "       [4, 3, 1, 7, 0, 8, 6, 2, 5],\n",
       "       [6, 8, 3, 0, 2, 5, 7, 4, 1],\n",
       "       [2, 5, 7, 6, 8, 4, 1, 3, 0],\n",
       "       [1, 2, 6, 8, 7, 3, 5, 0, 4],\n",
       "       [7, 6, 4, 2, 0, 8, 3, 1, 5]], dtype=int32)"
      ]
     },
     "execution_count": 2,
     "metadata": {},
     "output_type": "execute_result"
    }
   ],
   "source": [
    "permutations = np.load(\"naroozi_perms_100_patches_9_max.npy\")\n",
    "permutations -= 1\n",
    "permutations"
   ]
  },
  {
   "cell_type": "code",
   "execution_count": 2,
   "metadata": {},
   "outputs": [],
   "source": [
    "# ds =  Places365(\"places365\", download=True, split=\"val\")\n",
    "ds =  Places365(\"places365\", split=\"val\")"
   ]
  },
  {
   "cell_type": "code",
   "execution_count": null,
   "metadata": {},
   "outputs": [],
   "source": [
    "# meg a kicsi is tul nagy\n",
    "# ds = Places365(\"places365_2\", download=True, small=True)"
   ]
  },
  {
   "cell_type": "code",
   "execution_count": 4,
   "metadata": {},
   "outputs": [
    {
     "name": "stdout",
     "output_type": "stream",
     "text": [
      "tensor(2.6400) tensor(-2.0494)\n",
      "tensor(2.6400) tensor(-1.9809)\n",
      "tensor(2.6400) tensor(-2.1008)\n",
      "tensor(2.6400) tensor(-2.1179)\n",
      "tensor(2.6400) tensor(-2.1179)\n",
      "tensor(2.6400) tensor(-2.1179)\n",
      "tensor(2.6400) tensor(-2.1179)\n",
      "tensor(2.6400) tensor(-2.1179)\n",
      "tensor(2.6400) tensor(-2.1179)\n"
     ]
    }
   ],
   "source": [
    "img = ds[0][0]\n",
    "img = img.resize((600, 600))\n",
    "\n",
    "w = img.size[0] / 3\n",
    "h = img.size[1] / 3\n",
    "\n",
    "tiles = []\n",
    "\n",
    "T = transforms.Compose([\n",
    "    transforms.ToTensor(),\n",
    "    transforms.Normalize(mean=[0.485, 0.456, 0.406], std=[0.229, 0.224, 0.225])\n",
    "])\n",
    "\n",
    "for i in range(3):\n",
    "    for j in range(3):\n",
    "        x_min, y_min = j*w, i*h\n",
    "        x_max, y_max = (j+1)*w, (i+1)*h\n",
    "        tile = img.crop([x_min, y_min, x_max, y_max])\n",
    "        tile_t = T(tile)\n",
    "        print(tile_t.max(), tile_t.min())\n",
    "        tiles.append(tile)"
   ]
  },
  {
   "cell_type": "code",
   "execution_count": null,
   "metadata": {},
   "outputs": [],
   "source": [
    "permuted_tile_tensor = np.array(tiles)[permutations[0],...]\n",
    "permuted_tiles = [Image.fromarray(tile) for tile in permuted_tile_tensor]"
   ]
  },
  {
   "cell_type": "code",
   "execution_count": null,
   "metadata": {},
   "outputs": [],
   "source": [
    "fig, axes = plt.subplots(3, 3)\n",
    "\n",
    "for i, ax in enumerate(axes.flat):\n",
    "    ax.imshow(permuted_tiles[i])\n",
    "    ax.axis(\"off\")"
   ]
  },
  {
   "cell_type": "code",
   "execution_count": 5,
   "metadata": {},
   "outputs": [],
   "source": [
    "N_PERMUTATIONS = 10"
   ]
  },
  {
   "cell_type": "code",
   "execution_count": 6,
   "metadata": {},
   "outputs": [],
   "source": [
    "class TileDataset(Dataset):\n",
    "    def __init__(self, dataset, n_permutations=100):\n",
    "        self.dataset = dataset\n",
    "        # all possible permutations. The get() function will choose randomly, and return the label\n",
    "        self.permutations = np.load(\"naroozi_perms_100_patches_9_max.npy\")\n",
    "        self.permutations -= 1 # 0 based indexing\n",
    "        self.n_permutations = n_permutations\n",
    "        self.resize_to = 600\n",
    "        self.T = transforms.Compose([\n",
    "            transforms.ToTensor(),\n",
    "            transforms.Normalize(mean=[0.485, 0.456, 0.406], std=[0.229, 0.224, 0.225]), # imageNet standard\n",
    "        ])\n",
    "\n",
    "    def __len__(self):\n",
    "        return len(self.dataset)\n",
    "\n",
    "    def __getitem__(self, idx):\n",
    "        img, _ = self.dataset[idx]\n",
    "\n",
    "        img = img.resize((self.resize_to, self.resize_to))\n",
    "\n",
    "        w = img.size[0] // 3\n",
    "        h = img.size[1] // 3\n",
    "\n",
    "        tiles = []\n",
    "\n",
    "        for i in range(3):\n",
    "            for j in range(3):\n",
    "                x_min, y_min = j * w, i * h\n",
    "                x_max, y_max = (j + 1) * w, (i + 1) * h\n",
    "                tile = img.crop([x_min, y_min, x_max, y_max])\n",
    "                tile = self.T(tile)\n",
    "                tiles.append(tile.unsqueeze(0))\n",
    "\n",
    "        perm_idx = np.random.choice(self.n_permutations)\n",
    "        permutation = self.permutations[perm_idx]\n",
    "\n",
    "        permuted_tile_tensor = torch.cat(tiles, dim=0)[permutation, ...]\n",
    "\n",
    "        perm_label = np.zeros(self.n_permutations)\n",
    "        perm_label[perm_idx] = 1\n",
    "\n",
    "        return permuted_tile_tensor, perm_label\n",
    "\n",
    "tile_dataset = TileDataset(ds, N_PERMUTATIONS)\n",
    "\n",
    "# Create a DataLoader\n",
    "batch_size = 32  # Adjust the batch size as needed\n",
    "tile_dataloader = DataLoader(tile_dataset, batch_size=batch_size, shuffle=True, num_workers=8)"
   ]
  },
  {
   "cell_type": "code",
   "execution_count": null,
   "metadata": {},
   "outputs": [],
   "source": [
    "tile_dataset[0][0].shape, tile_dataset[0][1].shape"
   ]
  },
  {
   "cell_type": "code",
   "execution_count": 8,
   "metadata": {},
   "outputs": [],
   "source": [
    "CONV1_C = 96\n",
    "CONV2_C = 256\n",
    "CONV3_C = 384\n",
    "CONV4_C = 384\n",
    "CONV5_C = 256\n",
    "FC1 = 256 #1024\n",
    "FC2 = 256 #4096"
   ]
  },
  {
   "cell_type": "code",
   "execution_count": 9,
   "metadata": {},
   "outputs": [],
   "source": [
    "# Structure\n",
    "# conv\n",
    "# local size ?\n",
    "# output has 11x11 features for 200x200 input\n",
    "backbone = nn.Sequential(\n",
    "    # conv1\n",
    "    nn.Conv2d(3, CONV1_C, kernel_size=11, stride=2, padding=0),\n",
    "    nn.ReLU(inplace=True),\n",
    "    nn.MaxPool2d(kernel_size=3, stride=2),\n",
    "    nn.LocalResponseNorm(5),\n",
    "    # conv2\n",
    "    nn.Conv2d(CONV1_C, CONV2_C, kernel_size=5, padding=2, groups=2),\n",
    "    nn.ReLU(inplace=True),\n",
    "    nn.MaxPool2d(kernel_size=3, stride=2),\n",
    "    nn.LocalResponseNorm(5),\n",
    "    # conv3\n",
    "    nn.Conv2d(CONV2_C, CONV3_C, kernel_size=3, padding=1),\n",
    "    nn.ReLU(inplace=True),\n",
    "    # conv4\n",
    "    nn.Conv2d(CONV3_C, CONV4_C, kernel_size=3, padding=1, groups=2),\n",
    "    nn.ReLU(inplace=True),\n",
    "    # conv5\n",
    "    nn.Conv2d(CONV4_C, CONV5_C, kernel_size=3, padding=1, groups=2),\n",
    "    nn.ReLU(inplace=True),\n",
    "    nn.MaxPool2d(kernel_size=3, stride=2)\n",
    ")\n",
    "\n",
    "# fc6 in original code, feeded recieves each tile individually \n",
    "fc1 = nn.Sequential(\n",
    "    nn.Linear(CONV5_C*11*11, FC1),\n",
    "    nn.ReLU(inplace=True),\n",
    "    nn.Dropout(p=0.5),\n",
    ")\n",
    "\n",
    "# fc7 + classifier\n",
    "fc_head = nn.Sequential(\n",
    "    # fc7\n",
    "    nn.Linear(9*FC1, FC2),\n",
    "    nn.ReLU(inplace=True),\n",
    "    nn.Dropout(p=0.5),\n",
    "    # classifier\n",
    "    nn.Linear(FC2, N_PERMUTATIONS),\n",
    "    # nn.Softmax(dim=0) # no softmax bcos cross entropy loss expects unnormalized logits\n",
    ")"
   ]
  },
  {
   "cell_type": "code",
   "execution_count": 10,
   "metadata": {},
   "outputs": [],
   "source": [
    "class JigsawTorchModel(nn.Module):\n",
    "    def __init__(self, backbone, fc1, fc_head, num_permutations=100):\n",
    "        super().__init__()\n",
    "        self.backbone = backbone  # Replace with your actual backbone\n",
    "        self.fc1 = fc1\n",
    "        self.fc_head = fc_head\n",
    "        self.num_permutations = num_permutations\n",
    "\n",
    "    def forward(self, x):\n",
    "        # force batch size\n",
    "        x = x.view(-1, 9, 3, 200, 200)\n",
    "        B = x.shape[0]\n",
    "\n",
    "        x = x.transpose(0,1)\n",
    "\n",
    "        x_list = []\n",
    "        for i in range(9):\n",
    "            z = self.backbone(x[i])\n",
    "            z = self.fc1(z.view(B, -1))\n",
    "            z = z.view(B, 1, -1)\n",
    "            x_list.append(z)\n",
    "\n",
    "        x = torch.cat(x_list,1)\n",
    "        x = x.view(B, -1)\n",
    "        x = self.fc_head(x)\n",
    "\n",
    "        return x"
   ]
  },
  {
   "cell_type": "code",
   "execution_count": 11,
   "metadata": {},
   "outputs": [],
   "source": [
    "class JigsawLightningModel(L.LightningModule):\n",
    "    def __init__(self, model):\n",
    "        super().__init__()\n",
    "        self.model = model\n",
    "        self.loss = nn.CrossEntropyLoss()\n",
    "\n",
    "    def forward(self, x):\n",
    "        return self.model(x)\n",
    "\n",
    "    def training_step(self, batch, batch_idx):\n",
    "        inputs, labels = batch\n",
    "        outputs = self(inputs)\n",
    "        loss = self.loss(outputs, labels)\n",
    "        self.log(\"train loss\", loss)\n",
    "        return loss\n",
    "\n",
    "    def configure_optimizers(self):\n",
    "        return optim.Adam(self.parameters(), lr=1e-2)"
   ]
  },
  {
   "cell_type": "code",
   "execution_count": 12,
   "metadata": {},
   "outputs": [],
   "source": [
    "# Instantiate the Lightning Model\n",
    "jigsaw_model = JigsawLightningModel(JigsawTorchModel(backbone, fc1, fc_head))"
   ]
  },
  {
   "cell_type": "code",
   "execution_count": 13,
   "metadata": {},
   "outputs": [
    {
     "name": "stderr",
     "output_type": "stream",
     "text": [
      "GPU available: True (cuda), used: True\n",
      "TPU available: False, using: 0 TPU cores\n",
      "IPU available: False, using: 0 IPUs\n",
      "HPU available: False, using: 0 HPUs\n",
      "You are using a CUDA device ('NVIDIA GeForce RTX 3060 Ti') that has Tensor Cores. To properly utilize them, you should set `torch.set_float32_matmul_precision('medium' | 'high')` which will trade-off precision for performance. For more details, read https://pytorch.org/docs/stable/generated/torch.set_float32_matmul_precision.html#torch.set_float32_matmul_precision\n",
      "Failed to detect the name of this notebook, you can set it manually with the WANDB_NOTEBOOK_NAME environment variable to enable code saving.\n",
      "\u001b[34m\u001b[1mwandb\u001b[0m: Currently logged in as: \u001b[33mpeter-istvan\u001b[0m (\u001b[33mhey-chatgpt-suggest-team-name\u001b[0m). Use \u001b[1m`wandb login --relogin`\u001b[0m to force relogin\n"
     ]
    },
    {
     "data": {
      "text/html": [
       "Tracking run with wandb version 0.16.1"
      ],
      "text/plain": [
       "<IPython.core.display.HTML object>"
      ]
     },
     "metadata": {},
     "output_type": "display_data"
    },
    {
     "data": {
      "text/html": [
       "Run data is saved locally in <code>./wandb/run-20231209_170935-wm53vb1c</code>"
      ],
      "text/plain": [
       "<IPython.core.display.HTML object>"
      ]
     },
     "metadata": {},
     "output_type": "display_data"
    },
    {
     "data": {
      "text/html": [
       "Syncing run <strong><a href='https://wandb.ai/hey-chatgpt-suggest-team-name/DL-HF/runs/wm53vb1c' target=\"_blank\">efficient-salad-5</a></strong> to <a href='https://wandb.ai/hey-chatgpt-suggest-team-name/DL-HF' target=\"_blank\">Weights & Biases</a> (<a href='https://wandb.me/run' target=\"_blank\">docs</a>)<br/>"
      ],
      "text/plain": [
       "<IPython.core.display.HTML object>"
      ]
     },
     "metadata": {},
     "output_type": "display_data"
    },
    {
     "data": {
      "text/html": [
       " View project at <a href='https://wandb.ai/hey-chatgpt-suggest-team-name/DL-HF' target=\"_blank\">https://wandb.ai/hey-chatgpt-suggest-team-name/DL-HF</a>"
      ],
      "text/plain": [
       "<IPython.core.display.HTML object>"
      ]
     },
     "metadata": {},
     "output_type": "display_data"
    },
    {
     "data": {
      "text/html": [
       " View run at <a href='https://wandb.ai/hey-chatgpt-suggest-team-name/DL-HF/runs/wm53vb1c' target=\"_blank\">https://wandb.ai/hey-chatgpt-suggest-team-name/DL-HF/runs/wm53vb1c</a>"
      ],
      "text/plain": [
       "<IPython.core.display.HTML object>"
      ]
     },
     "metadata": {},
     "output_type": "display_data"
    },
    {
     "name": "stderr",
     "output_type": "stream",
     "text": [
      "LOCAL_RANK: 0 - CUDA_VISIBLE_DEVICES: [0]\n",
      "\n",
      "  | Name  | Type             | Params\n",
      "-------------------------------------------\n",
      "0 | model | JigsawTorchModel | 10.9 M\n",
      "1 | loss  | CrossEntropyLoss | 0     \n",
      "-------------------------------------------\n",
      "10.9 M    Trainable params\n",
      "0         Non-trainable params\n",
      "10.9 M    Total params\n",
      "43.427    Total estimated model params size (MB)\n"
     ]
    },
    {
     "data": {
      "application/vnd.jupyter.widget-view+json": {
       "model_id": "91ab52a055884ba18a64472f62513c4d",
       "version_major": 2,
       "version_minor": 0
      },
      "text/plain": [
       "Training: |          | 0/? [00:00<?, ?it/s]"
      ]
     },
     "metadata": {},
     "output_type": "display_data"
    },
    {
     "name": "stderr",
     "output_type": "stream",
     "text": [
      "/home/i/BME/9/melytanulas/DeepLearningHW23/venv/lib/python3.11/site-packages/lightning/pytorch/trainer/call.py:54: Detected KeyboardInterrupt, attempting graceful shutdown...\n"
     ]
    }
   ],
   "source": [
    "# Define a PyTorch Lightning Trainer\n",
    "wandb_logger = WandbLogger(project=\"DL-HF\")\n",
    "trainer = L.Trainer(max_epochs=10, logger=wandb_logger, log_every_n_steps=4)  # Adjust max_epochs and gpus as needed\n",
    "# Train the model\n",
    "trainer.fit(jigsaw_model, tile_dataloader)\n"
   ]
  },
  {
   "cell_type": "code",
   "execution_count": 13,
   "metadata": {},
   "outputs": [],
   "source": [
    "wandb_logger.finalize(0)"
   ]
  }
 ],
 "metadata": {
  "kernelspec": {
   "display_name": "venv",
   "language": "python",
   "name": "python3"
  },
  "language_info": {
   "codemirror_mode": {
    "name": "ipython",
    "version": 3
   },
   "file_extension": ".py",
   "mimetype": "text/x-python",
   "name": "python",
   "nbconvert_exporter": "python",
   "pygments_lexer": "ipython3",
   "version": "3.11.5"
  }
 },
 "nbformat": 4,
 "nbformat_minor": 2
}
